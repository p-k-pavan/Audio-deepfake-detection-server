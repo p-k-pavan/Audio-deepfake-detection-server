{
 "cells": [
  {
   "cell_type": "code",
   "execution_count": 1,
   "id": "838b9b39",
   "metadata": {},
   "outputs": [],
   "source": [
    "import os\n",
    "import random\n",
    "import pandas as pd\n",
    "import numpy as np\n",
    "import matplotlib.pylab as plt\n",
    "import seaborn as sns\n",
    "\n",
    "from sklearn.model_selection import train_test_split\n",
    "import shutil\n",
    "\n",
    "import librosa\n",
    "import librosa.display\n",
    "import IPython.display as ipd\n",
    "\n",
    "from itertools import cycle\n",
    "\n",
    "sns.set_theme(style=\"white\", palette=None)\n",
    "color_pal = plt.rcParams[\"axes.prop_cycle\"].by_key()[\"color\"]\n",
    "color_cycle = cycle(plt.rcParams[\"axes.prop_cycle\"].by_key()[\"color\"])"
   ]
  },
  {
   "cell_type": "code",
   "execution_count": 6,
   "id": "4290fc1d",
   "metadata": {},
   "outputs": [
    {
     "name": "stdout",
     "output_type": "stream",
     "text": [
      "Total number of audio files: 20000\n"
     ]
    },
    {
     "data": {
      "text/html": [
       "<div>\n",
       "<style scoped>\n",
       "    .dataframe tbody tr th:only-of-type {\n",
       "        vertical-align: middle;\n",
       "    }\n",
       "\n",
       "    .dataframe tbody tr th {\n",
       "        vertical-align: top;\n",
       "    }\n",
       "\n",
       "    .dataframe thead th {\n",
       "        text-align: right;\n",
       "    }\n",
       "</style>\n",
       "<table border=\"1\" class=\"dataframe\">\n",
       "  <thead>\n",
       "    <tr style=\"text-align: right;\">\n",
       "      <th></th>\n",
       "      <th>File Path</th>\n",
       "      <th>File Name</th>\n",
       "    </tr>\n",
       "  </thead>\n",
       "  <tbody>\n",
       "    <tr>\n",
       "      <th>0</th>\n",
       "      <td>DATASET/bonafide\\df_e_2000503.flac</td>\n",
       "      <td>df_e_2000503.flac</td>\n",
       "    </tr>\n",
       "    <tr>\n",
       "      <th>1</th>\n",
       "      <td>DATASET/bonafide\\df_e_2000531.flac</td>\n",
       "      <td>df_e_2000531.flac</td>\n",
       "    </tr>\n",
       "    <tr>\n",
       "      <th>2</th>\n",
       "      <td>DATASET/bonafide\\df_e_2001149.flac</td>\n",
       "      <td>df_e_2001149.flac</td>\n",
       "    </tr>\n",
       "    <tr>\n",
       "      <th>3</th>\n",
       "      <td>DATASET/bonafide\\df_e_2001230.flac</td>\n",
       "      <td>df_e_2001230.flac</td>\n",
       "    </tr>\n",
       "    <tr>\n",
       "      <th>4</th>\n",
       "      <td>DATASET/bonafide\\df_e_2002152.flac</td>\n",
       "      <td>df_e_2002152.flac</td>\n",
       "    </tr>\n",
       "  </tbody>\n",
       "</table>\n",
       "</div>"
      ],
      "text/plain": [
       "                            File Path          File Name\n",
       "0  DATASET/bonafide\\df_e_2000503.flac  df_e_2000503.flac\n",
       "1  DATASET/bonafide\\df_e_2000531.flac  df_e_2000531.flac\n",
       "2  DATASET/bonafide\\df_e_2001149.flac  df_e_2001149.flac\n",
       "3  DATASET/bonafide\\df_e_2001230.flac  df_e_2001230.flac\n",
       "4  DATASET/bonafide\\df_e_2002152.flac  df_e_2002152.flac"
      ]
     },
     "execution_count": 6,
     "metadata": {},
     "output_type": "execute_result"
    }
   ],
   "source": [
    "# Define the paths to the audio files\n",
    "paths = [\n",
    "    \"DATASET/bonafide\",\n",
    "    \"DATASET/spoof\"\n",
    "]\n",
    "\n",
    "# Combine file paths\n",
    "file_list = []\n",
    "for path in paths:\n",
    "    for root, _, files in os.walk(path):\n",
    "        for file in files:\n",
    "            if file.endswith(\".flac\"):\n",
    "                file_list.append({\"File Path\": os.path.join(root, file), \"File Name\": file})\n",
    "\n",
    "audio_df = pd.DataFrame(file_list)\n",
    "print(f\"Total number of audio files: {len(audio_df)}\")\n",
    "audio_df.head()"
   ]
  },
  {
   "cell_type": "code",
   "execution_count": 7,
   "id": "3129349c",
   "metadata": {},
   "outputs": [],
   "source": [
    "# Save the combined data (optional)\n",
    "audio_df.to_csv(\"asv-metadata.csv\", index=False)"
   ]
  },
  {
   "cell_type": "code",
   "execution_count": null,
   "id": "4ed53fdf",
   "metadata": {},
   "outputs": [
    {
     "name": "stdout",
     "output_type": "stream",
     "text": [
      "Total records in metadata: 27376\n",
      "                      File Path            File Name Speaker ID     Label\n",
      "0   bonafide\\record-1020001.wav   record-1020001.wav     record  bonafide\n",
      "1  bonafide\\record-10200010.wav  record-10200010.wav     record  bonafide\n",
      "2  bonafide\\record-10200011.wav  record-10200011.wav     record  bonafide\n",
      "3  bonafide\\record-10200012.wav  record-10200012.wav     record  bonafide\n",
      "4  bonafide\\record-10200013.wav  record-10200013.wav     record  bonafide\n"
     ]
    }
   ],
   "source": [
    "# Display metadata\n",
    "metadata = pd.read_csv(\"asv-metadata.csv\")\n",
    "print(f\"Total records in metadata: {len(metadata)}\")\n",
    "print(metadata.head())"
   ]
  },
  {
   "cell_type": "code",
   "execution_count": 12,
   "id": "bef83581",
   "metadata": {},
   "outputs": [
    {
     "name": "stdout",
     "output_type": "stream",
     "text": [
      "Count of each label in the merged data:\n",
      "Label\n",
      "spoof       14499\n",
      "bonafide    12877\n",
      "Name: count, dtype: int64\n",
      "spoof: 14499\n",
      "bonafide: 12877\n"
     ]
    }
   ],
   "source": [
    "# Count the occurrences of each label in the merged DataFrame\n",
    "label_counts = metadata['Label'].value_counts()\n",
    "\n",
    "# Display the counts of each label\n",
    "print(\"Count of each label in the merged data:\")\n",
    "print(label_counts)\n",
    "\n",
    "# Optionally, display the counts in a more readable format\n",
    "for label, count in label_counts.items():\n",
    "    print(f\"{label}: {count}\")"
   ]
  },
  {
   "cell_type": "code",
   "execution_count": 13,
   "id": "43644d36",
   "metadata": {},
   "outputs": [
    {
     "data": {
      "image/png": "[encoded data removed]",
      "text/plain": [
       "<Figure size 1000x600 with 1 Axes>"
      ]
     },
     "metadata": {},
     "output_type": "display_data"
    }
   ],
   "source": [
    "# Plot the distribution of labels to visualize the counts of each class\n",
    "plt.figure(figsize=(10, 6))\n",
    "sns.countplot(data=metadata, x='Label')\n",
    "plt.title('Distribution of Labels in Merged Data')\n",
    "plt.xlabel('Label')\n",
    "plt.ylabel('Count')\n",
    "plt.show()"
   ]
  },
  {
   "cell_type": "code",
   "execution_count": null,
   "id": "70bd2d39",
   "metadata": {},
   "outputs": [],
   "source": []
  }
 ],
 "metadata": {
  "kernelspec": {
   "display_name": "Python 3",
   "language": "python",
   "name": "python3"
  },
  "language_info": {
   "codemirror_mode": {
    "name": "ipython",
    "version": 3
   },
   "file_extension": ".py",
   "mimetype": "text/x-python",
   "name": "python",
   "nbconvert_exporter": "python",
   "pygments_lexer": "ipython3",
   "version": "3.12.4"
  }
 },
 "nbformat": 4,
 "nbformat_minor": 5
}
