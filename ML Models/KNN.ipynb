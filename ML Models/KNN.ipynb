{
 "cells": [
  {
   "cell_type": "code",
   "execution_count": 2,
   "id": "18ef52d0",
   "metadata": {},
   "outputs": [],
   "source": [
    "import numpy as np\n",
    "import pandas as pd\n",
    "from sklearn.model_selection import train_test_split\n",
    "from sklearn.preprocessing import LabelEncoder, StandardScaler\n",
    "from sklearn.metrics import classification_report, confusion_matrix, roc_curve, auc, precision_recall_curve\n",
    "from sklearn.neighbors import KNeighborsClassifier\n",
    "from imblearn.over_sampling import SMOTE\n",
    "import matplotlib.pyplot as plt\n",
    "import seaborn as sns\n",
    "import joblib"
   ]
  },
  {
   "cell_type": "code",
   "execution_count": 3,
   "id": "1113ba39",
   "metadata": {},
   "outputs": [],
   "source": [
    "# Load dataset\n",
    "spoof_dataset = pd.read_csv('../spoof_features.csv')\n",
    "bonfide_dataset = pd.read_csv('../bonafide_features.csv')"
   ]
  },
  {
   "cell_type": "code",
   "execution_count": 4,
   "id": "066db1c3",
   "metadata": {},
   "outputs": [],
   "source": [
    "# Add label columns: 0 for spoof, 1 for bonafide\n",
    "spoof_dataset['label'] = 0\n",
    "bonfide_dataset['label'] = 1\n",
    "\n",
    "# Merge the datasets\n",
    "combined_dataset = pd.concat([spoof_dataset, bonfide_dataset], ignore_index=True)\n",
    "\n",
    "# Shuffle the dataset (optional but recommended)\n",
    "dataset = combined_dataset.sample(frac=1, random_state=42).reset_index(drop=True)"
   ]
  },
  {
   "cell_type": "code",
   "execution_count": 5,
   "id": "29e14b16",
   "metadata": {},
   "outputs": [
    {
     "name": "stdout",
     "output_type": "stream",
     "text": [
      "\n",
      "Dataset Information:\n",
      "<class 'pandas.core.frame.DataFrame'>\n",
      "RangeIndex: 27375 entries, 0 to 27374\n",
      "Columns: 193 entries, MFCC_1 to label\n",
      "dtypes: float64(192), int64(1)\n",
      "memory usage: 40.3 MB\n",
      "None\n"
     ]
    }
   ],
   "source": [
    "# Display dataset information\n",
    "print(\"\\nDataset Information:\")\n",
    "print(dataset.info())"
   ]
  },
  {
   "cell_type": "code",
   "execution_count": 7,
   "id": "d3b9b3b3",
   "metadata": {},
   "outputs": [],
   "source": [
    "# Extract features and target\n",
    "X = dataset.iloc[:, :-1]  # Features\n",
    "y = dataset['label']     # Target"
   ]
  },
  {
   "cell_type": "code",
   "execution_count": 8,
   "id": "aa046e1a",
   "metadata": {},
   "outputs": [],
   "source": [
    "# Encode labels\n",
    "label_encoder = LabelEncoder()\n",
    "y_encoded = label_encoder.fit_transform(y)"
   ]
  },
  {
   "cell_type": "code",
   "execution_count": 9,
   "id": "b8657eef",
   "metadata": {},
   "outputs": [],
   "source": [
    "# Balance dataset using SMOTE\n",
    "smote = SMOTE(random_state=42)\n",
    "X_resampled, y_resampled = smote.fit_resample(X, y_encoded)"
   ]
  },
  {
   "cell_type": "code",
   "execution_count": 10,
   "id": "52d91ce5",
   "metadata": {},
   "outputs": [],
   "source": [
    "# Normalize features\n",
    "scaler = StandardScaler()\n",
    "X_resampled = scaler.fit_transform(X_resampled)"
   ]
  },
  {
   "cell_type": "code",
   "execution_count": 11,
   "id": "364e5c7f",
   "metadata": {},
   "outputs": [],
   "source": [
    "# First, split into train+val and test (e.g., 80% train+val, 20% test)\n",
    "X_temp, X_test, y_temp, y_test = train_test_split(\n",
    "    X_resampled, y_resampled, test_size=0.2, random_state=42, stratify=y_resampled\n",
    ")\n",
    "\n",
    "# Then, split train+val into train and validation (e.g., 75% train, 25% val of the 80%)\n",
    "X_train, X_val, y_train, y_val = train_test_split(\n",
    "    X_temp, y_temp, test_size=0.25, random_state=42, stratify=y_temp\n",
    ")\n",
    "# Now: X_train (60%), X_val (20%), X_test (20%)\n"
   ]
  },
  {
   "cell_type": "code",
   "execution_count": 13,
   "id": "f7be73d7",
   "metadata": {},
   "outputs": [
    {
     "name": "stdout",
     "output_type": "stream",
     "text": [
      "\n",
      "Validation Report KNN:\n",
      "              precision    recall  f1-score   support\n",
      "\n",
      "           0       1.00      1.00      1.00      2900\n",
      "           1       1.00      1.00      1.00      2899\n",
      "\n",
      "    accuracy                           1.00      5799\n",
      "   macro avg       1.00      1.00      1.00      5799\n",
      "weighted avg       1.00      1.00      1.00      5799\n",
      "\n"
     ]
    },
    {
     "data": {
      "image/png": "[encoded data removed]",
      "text/plain": [
       "<Figure size 1000x700 with 2 Axes>"
      ]
     },
     "metadata": {},
     "output_type": "display_data"
    }
   ],
   "source": [
    "# Train the KNN model\n",
    "knn_model = KNeighborsClassifier(n_neighbors=5)\n",
    "knn_model.fit(X_train, y_train)\n",
    "\n",
    "# Predict on validation set\n",
    "y_val_pred = knn_model.predict(X_val)\n",
    "\n",
    "# Classification Report on Validation\n",
    "print(\"\\nValidation Report KNN:\")\n",
    "print(classification_report(y_val, y_val_pred, target_names=[str(cls) for cls in label_encoder.classes_]))\n",
    "\n",
    "\n",
    "# Confusion Matrix on Validation\n",
    "conf_matrix_val = confusion_matrix(y_val, y_val_pred)\n",
    "plt.figure(figsize=(10, 7))\n",
    "sns.heatmap(conf_matrix_val, annot=True, fmt='d', cmap='Greens',\n",
    "            xticklabels=label_encoder.classes_,\n",
    "            yticklabels=label_encoder.classes_)\n",
    "plt.title('KNN Confusion Matrix - Validation Set')\n",
    "plt.xlabel('Predicted')\n",
    "plt.ylabel('Actual')\n",
    "plt.show()\n"
   ]
  },
  {
   "cell_type": "code",
   "execution_count": 19,
   "id": "b65b50d8",
   "metadata": {},
   "outputs": [
    {
     "name": "stdout",
     "output_type": "stream",
     "text": [
      "Validation Accuracy: 0.9995\n"
     ]
    }
   ],
   "source": [
    "# Validation Accuracy\n",
    "from sklearn.metrics import accuracy_score\n",
    "\n",
    "val_accuracy = accuracy_score(y_val, y_val_pred)\n",
    "print(f\"Validation Accuracy: {val_accuracy:.4f}\")"
   ]
  },
  {
   "cell_type": "code",
   "execution_count": 21,
   "id": "f433d495",
   "metadata": {},
   "outputs": [
    {
     "name": "stdout",
     "output_type": "stream",
     "text": [
      "\n",
      "Test Report KNN:\n",
      "              precision    recall  f1-score   support\n",
      "\n",
      "           0       1.00      1.00      1.00      2900\n",
      "           1       1.00      1.00      1.00      2900\n",
      "\n",
      "    accuracy                           1.00      5800\n",
      "   macro avg       1.00      1.00      1.00      5800\n",
      "weighted avg       1.00      1.00      1.00      5800\n",
      "\n"
     ]
    },
    {
     "data": {
      "image/png": "[encoded data removed]",
      "text/plain": [
       "<Figure size 1000x700 with 2 Axes>"
      ]
     },
     "metadata": {},
     "output_type": "display_data"
    }
   ],
   "source": [
    "# Predict on test set\n",
    "y_test_pred = knn_model.predict(X_test)\n",
    "\n",
    "# Report\n",
    "print(\"\\nTest Report KNN:\")\n",
    "print(classification_report(y_test, y_test_pred, target_names=[str(cls) for cls in label_encoder.classes_]))\n",
    "\n",
    "# Confusion Matrix on Test\n",
    "conf_matrix_test = confusion_matrix(y_test, y_test_pred)\n",
    "plt.figure(figsize=(10, 7))\n",
    "sns.heatmap(conf_matrix_test, annot=True, fmt='d', cmap='Blues',\n",
    "            xticklabels=label_encoder.classes_,\n",
    "            yticklabels=label_encoder.classes_)\n",
    "plt.title('KNN Confusion Matrix - Test Set')\n",
    "plt.xlabel('Predicted')\n",
    "plt.ylabel('Actual')\n",
    "plt.show()\n"
   ]
  },
  {
   "cell_type": "code",
   "execution_count": 24,
   "id": "3b6dd0b9",
   "metadata": {},
   "outputs": [
    {
     "name": "stdout",
     "output_type": "stream",
     "text": [
      "Validation Accuracy: 0.9988\n"
     ]
    }
   ],
   "source": [
    "# Validation Accuracy\n",
    "from sklearn.metrics import accuracy_score\n",
    "\n",
    "val_accuracy = accuracy_score(y_test, y_test_pred)\n",
    "print(f\"Validation Accuracy: {val_accuracy:.4f}\")"
   ]
  }
 ],
 "metadata": {
  "kernelspec": {
   "display_name": "Python 3",
   "language": "python",
   "name": "python3"
  },
  "language_info": {
   "codemirror_mode": {
    "name": "ipython",
    "version": 3
   },
   "file_extension": ".py",
   "mimetype": "text/x-python",
   "name": "python",
   "nbconvert_exporter": "python",
   "pygments_lexer": "ipython3",
   "version": "3.12.4"
  }
 },
 "nbformat": 4,
 "nbformat_minor": 5
}
