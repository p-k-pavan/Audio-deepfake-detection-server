{
 "cells": [
  {
   "cell_type": "code",
   "execution_count": 2,
   "id": "d1a7be81",
   "metadata": {},
   "outputs": [],
   "source": [
    "import pandas as pd\n",
    "import numpy as np\n",
    "import os\n",
    "import matplotlib.pyplot as plt\n",
    "import seaborn as sns\n",
    "import librosa\n",
    "from tqdm import tqdm\n",
    "from joblib import Parallel, delayed\n",
    "import csv"
   ]
  },
  {
   "cell_type": "code",
   "execution_count": 3,
   "id": "92b24757",
   "metadata": {},
   "outputs": [
    {
     "name": "stdout",
     "output_type": "stream",
     "text": [
      "DataFrame:\n"
     ]
    },
    {
     "data": {
      "text/html": [
       "<div>\n",
       "<style scoped>\n",
       "    .dataframe tbody tr th:only-of-type {\n",
       "        vertical-align: middle;\n",
       "    }\n",
       "\n",
       "    .dataframe tbody tr th {\n",
       "        vertical-align: top;\n",
       "    }\n",
       "\n",
       "    .dataframe thead th {\n",
       "        text-align: right;\n",
       "    }\n",
       "</style>\n",
       "<table border=\"1\" class=\"dataframe\">\n",
       "  <thead>\n",
       "    <tr style=\"text-align: right;\">\n",
       "      <th></th>\n",
       "      <th>File Path</th>\n",
       "      <th>File Name</th>\n",
       "      <th>Speaker ID</th>\n",
       "      <th>Label</th>\n",
       "    </tr>\n",
       "  </thead>\n",
       "  <tbody>\n",
       "    <tr>\n",
       "      <th>0</th>\n",
       "      <td>bonafide\\record-1020001.wav</td>\n",
       "      <td>record-1020001.wav</td>\n",
       "      <td>record</td>\n",
       "      <td>bonafide</td>\n",
       "    </tr>\n",
       "    <tr>\n",
       "      <th>1</th>\n",
       "      <td>bonafide\\record-10200010.wav</td>\n",
       "      <td>record-10200010.wav</td>\n",
       "      <td>record</td>\n",
       "      <td>bonafide</td>\n",
       "    </tr>\n",
       "    <tr>\n",
       "      <th>2</th>\n",
       "      <td>bonafide\\record-10200011.wav</td>\n",
       "      <td>record-10200011.wav</td>\n",
       "      <td>record</td>\n",
       "      <td>bonafide</td>\n",
       "    </tr>\n",
       "    <tr>\n",
       "      <th>3</th>\n",
       "      <td>bonafide\\record-10200012.wav</td>\n",
       "      <td>record-10200012.wav</td>\n",
       "      <td>record</td>\n",
       "      <td>bonafide</td>\n",
       "    </tr>\n",
       "    <tr>\n",
       "      <th>4</th>\n",
       "      <td>bonafide\\record-10200013.wav</td>\n",
       "      <td>record-10200013.wav</td>\n",
       "      <td>record</td>\n",
       "      <td>bonafide</td>\n",
       "    </tr>\n",
       "  </tbody>\n",
       "</table>\n",
       "</div>"
      ],
      "text/plain": [
       "                      File Path            File Name Speaker ID     Label\n",
       "0   bonafide\\record-1020001.wav   record-1020001.wav     record  bonafide\n",
       "1  bonafide\\record-10200010.wav  record-10200010.wav     record  bonafide\n",
       "2  bonafide\\record-10200011.wav  record-10200011.wav     record  bonafide\n",
       "3  bonafide\\record-10200012.wav  record-10200012.wav     record  bonafide\n",
       "4  bonafide\\record-10200013.wav  record-10200013.wav     record  bonafide"
      ]
     },
     "execution_count": 3,
     "metadata": {},
     "output_type": "execute_result"
    }
   ],
   "source": [
    "\n",
    "# Load the metadata CSV file\n",
    "data_path = \"metadata.csv\"\n",
    "df = pd.read_csv(data_path)\n",
    "\n",
    "# Display the first few rows of the DataFrame\n",
    "print(\"DataFrame:\")\n",
    "df.head()"
   ]
  },
  {
   "cell_type": "code",
   "execution_count": 4,
   "id": "a1e6e6c6",
   "metadata": {},
   "outputs": [
    {
     "name": "stdout",
     "output_type": "stream",
     "text": [
      "Basic Information:\n",
      "<class 'pandas.core.frame.DataFrame'>\n",
      "RangeIndex: 27376 entries, 0 to 27375\n",
      "Data columns (total 4 columns):\n",
      " #   Column      Non-Null Count  Dtype \n",
      "---  ------      --------------  ----- \n",
      " 0   File Path   27376 non-null  object\n",
      " 1   File Name   27376 non-null  object\n",
      " 2   Speaker ID  27376 non-null  object\n",
      " 3   Label       27376 non-null  object\n",
      "dtypes: object(4)\n",
      "memory usage: 855.6+ KB\n",
      "Summary Statistics:\n"
     ]
    },
    {
     "data": {
      "text/html": [
       "<div>\n",
       "<style scoped>\n",
       "    .dataframe tbody tr th:only-of-type {\n",
       "        vertical-align: middle;\n",
       "    }\n",
       "\n",
       "    .dataframe tbody tr th {\n",
       "        vertical-align: top;\n",
       "    }\n",
       "\n",
       "    .dataframe thead th {\n",
       "        text-align: right;\n",
       "    }\n",
       "</style>\n",
       "<table border=\"1\" class=\"dataframe\">\n",
       "  <thead>\n",
       "    <tr style=\"text-align: right;\">\n",
       "      <th></th>\n",
       "      <th>File Path</th>\n",
       "      <th>File Name</th>\n",
       "      <th>Speaker ID</th>\n",
       "      <th>Label</th>\n",
       "    </tr>\n",
       "  </thead>\n",
       "  <tbody>\n",
       "    <tr>\n",
       "      <th>count</th>\n",
       "      <td>27376</td>\n",
       "      <td>27376</td>\n",
       "      <td>27376</td>\n",
       "      <td>27376</td>\n",
       "    </tr>\n",
       "    <tr>\n",
       "      <th>unique</th>\n",
       "      <td>27376</td>\n",
       "      <td>27376</td>\n",
       "      <td>3</td>\n",
       "      <td>2</td>\n",
       "    </tr>\n",
       "    <tr>\n",
       "      <th>top</th>\n",
       "      <td>spoof\\tts-030200084.wav</td>\n",
       "      <td>tts-030200084.wav</td>\n",
       "      <td>tts</td>\n",
       "      <td>spoof</td>\n",
       "    </tr>\n",
       "    <tr>\n",
       "      <th>freq</th>\n",
       "      <td>1</td>\n",
       "      <td>1</td>\n",
       "      <td>14499</td>\n",
       "      <td>14499</td>\n",
       "    </tr>\n",
       "  </tbody>\n",
       "</table>\n",
       "</div>"
      ],
      "text/plain": [
       "                      File Path          File Name Speaker ID  Label\n",
       "count                     27376              27376      27376  27376\n",
       "unique                    27376              27376          3      2\n",
       "top     spoof\\tts-030200084.wav  tts-030200084.wav        tts  spoof\n",
       "freq                          1                  1      14499  14499"
      ]
     },
     "execution_count": 4,
     "metadata": {},
     "output_type": "execute_result"
    }
   ],
   "source": [
    "# Display basic information about the DataFrame\n",
    "print(\"Basic Information:\")\n",
    "df.info()\n",
    "\n",
    "# Display summary statistics of the DataFrame\n",
    "print(\"Summary Statistics:\")\n",
    "df.describe(include='all')\n"
   ]
  },
  {
   "cell_type": "code",
   "execution_count": 6,
   "id": "04a19952",
   "metadata": {},
   "outputs": [
    {
     "name": "stderr",
     "output_type": "stream",
     "text": [
      "C:\\Users\\PAVAN KUMAR R\\AppData\\Local\\Temp\\ipykernel_13024\\2562125108.py:3: FutureWarning: \n",
      "\n",
      "Passing `palette` without assigning `hue` is deprecated and will be removed in v0.14.0. Assign the `x` variable to `hue` and set `legend=False` for the same effect.\n",
      "\n",
      "  sns.countplot(data=df, x='Label', palette='viridis')\n"
     ]
    },
    {
     "data": {
      "image/png": "[encoded data removed]",
      "text/plain": [
       "<Figure size 800x600 with 1 Axes>"
      ]
     },
     "metadata": {},
     "output_type": "display_data"
    }
   ],
   "source": [
    "# Plot the distribution of labels\n",
    "plt.figure(figsize=(8, 6))\n",
    "sns.countplot(data=df, x='Label', palette='viridis')\n",
    "plt.title('Distribution of Labels (Spoof vs Bonafide)')\n",
    "plt.xlabel('Label')\n",
    "plt.ylabel('Count')\n",
    "plt.show()"
   ]
  },
  {
   "cell_type": "code",
   "execution_count": 7,
   "id": "1011df2d",
   "metadata": {},
   "outputs": [],
   "source": [
    "def calculate_duration(file_path):\n",
    "    try:\n",
    "        y, sr = librosa.load(file_path, sr=None)\n",
    "        return librosa.get_duration(y=y, sr=sr)\n",
    "    except Exception as e:\n",
    "        print(f\"Error loading {file_path}: {e}\")\n",
    "        return np.nan\n"
   ]
  },
  {
   "cell_type": "code",
   "execution_count": 9,
   "id": "9b60ad48",
   "metadata": {},
   "outputs": [
    {
     "name": "stdout",
     "output_type": "stream",
     "text": [
      "Processing Batch 1/3\n"
     ]
    },
    {
     "name": "stderr",
     "output_type": "stream",
     "text": [
      "Batch 1: 100%|██████████| 10000/10000 [03:36<00:00, 46.17it/s]\n"
     ]
    },
    {
     "name": "stdout",
     "output_type": "stream",
     "text": [
      "Memory usage after batch 1: 0.37 GB\n",
      "Processing Batch 2/3\n"
     ]
    },
    {
     "name": "stderr",
     "output_type": "stream",
     "text": [
      "Batch 2: 100%|██████████| 10000/10000 [02:09<00:00, 77.12it/s]\n"
     ]
    },
    {
     "name": "stdout",
     "output_type": "stream",
     "text": [
      "Memory usage after batch 2: 0.37 GB\n",
      "Processing Batch 3/3\n"
     ]
    },
    {
     "name": "stderr",
     "output_type": "stream",
     "text": [
      "Batch 3:  74%|███████▍  | 7376/10000 [01:20<00:28, 91.73it/s]"
     ]
    },
    {
     "name": "stdout",
     "output_type": "stream",
     "text": [
      "Memory usage after batch 3: 0.37 GB\n",
      "Updated DataFrame with Durations:\n",
      "                      File Path            File Name Speaker ID     Label  \\\n",
      "0   bonafide\\record-1020001.wav   record-1020001.wav     record  bonafide   \n",
      "1  bonafide\\record-10200010.wav  record-10200010.wav     record  bonafide   \n",
      "2  bonafide\\record-10200011.wav  record-10200011.wav     record  bonafide   \n",
      "3  bonafide\\record-10200012.wav  record-10200012.wav     record  bonafide   \n",
      "4  bonafide\\record-10200013.wav  record-10200013.wav     record  bonafide   \n",
      "\n",
      "   Duration  \n",
      "0       5.0  \n",
      "1       5.0  \n",
      "2       5.0  \n",
      "3       5.0  \n",
      "4       5.0  \n",
      "Total number of batches processed: 3\n"
     ]
    },
    {
     "name": "stderr",
     "output_type": "stream",
     "text": [
      "\n"
     ]
    }
   ],
   "source": [
    "import psutil\n",
    "\n",
    "# Function to process a batch of files and calculate durations\n",
    "def process_batch(batch_df):\n",
    "    batch_df['Duration'] = batch_df['File Path'].apply(calculate_duration)\n",
    "    return batch_df\n",
    "\n",
    "# Define batch size\n",
    "batch_size = 10000  # Increased batch size\n",
    "\n",
    "# Initialize an empty list to hold the processed DataFrames\n",
    "processed_batches = []\n",
    "\n",
    "# Total number of batches\n",
    "num_batches = len(df) // batch_size + 1\n",
    "\n",
    "# Function to check memory usage\n",
    "def check_memory():\n",
    "    process = psutil.Process(os.getpid())\n",
    "    mem_info = process.memory_info()\n",
    "    return mem_info.rss / (1024 ** 3)  # Memory usage in GB\n",
    "\n",
    "# Process the files in batches and monitor progress\n",
    "for i in range(num_batches):\n",
    "    print(f\"Processing Batch {i+1}/{num_batches}\")\n",
    "    with tqdm(total=batch_size, desc=f\"Batch {i+1}\") as pbar:\n",
    "        start_idx = i * batch_size\n",
    "        end_idx = min((i + 1) * batch_size, len(df))\n",
    "        batch_df = df.iloc[start_idx:end_idx].copy()\n",
    "        processed_batch = process_batch(batch_df)\n",
    "        processed_batches.append(processed_batch)\n",
    "        pbar.update(end_idx - start_idx)\n",
    "    pbar.close()\n",
    "    \n",
    "    # Check memory usage after each batch\n",
    "    memory_usage = check_memory()\n",
    "    print(f\"Memory usage after batch {i+1}: {memory_usage:.2f} GB\")\n",
    "\n",
    "# Concatenate all the processed batches into a single DataFrame\n",
    "processed_df = pd.concat(processed_batches, ignore_index=True)\n",
    "\n",
    "# Display the updated DataFrame with durations\n",
    "print(\"Updated DataFrame with Durations:\")\n",
    "print(processed_df.head())\n",
    "\n",
    "# Print the total number of batches processed\n",
    "print(f\"Total number of batches processed: {num_batches}\")\n"
   ]
  },
  {
   "cell_type": "code",
   "execution_count": 10,
   "id": "baff5102",
   "metadata": {},
   "outputs": [
    {
     "data": {
      "text/html": [
       "<div>\n",
       "<style scoped>\n",
       "    .dataframe tbody tr th:only-of-type {\n",
       "        vertical-align: middle;\n",
       "    }\n",
       "\n",
       "    .dataframe tbody tr th {\n",
       "        vertical-align: top;\n",
       "    }\n",
       "\n",
       "    .dataframe thead th {\n",
       "        text-align: right;\n",
       "    }\n",
       "</style>\n",
       "<table border=\"1\" class=\"dataframe\">\n",
       "  <thead>\n",
       "    <tr style=\"text-align: right;\">\n",
       "      <th></th>\n",
       "      <th>File Path</th>\n",
       "      <th>File Name</th>\n",
       "      <th>Speaker ID</th>\n",
       "      <th>Label</th>\n",
       "      <th>Duration</th>\n",
       "    </tr>\n",
       "  </thead>\n",
       "  <tbody>\n",
       "    <tr>\n",
       "      <th>0</th>\n",
       "      <td>bonafide\\record-1020001.wav</td>\n",
       "      <td>record-1020001.wav</td>\n",
       "      <td>record</td>\n",
       "      <td>bonafide</td>\n",
       "      <td>5.0</td>\n",
       "    </tr>\n",
       "    <tr>\n",
       "      <th>1</th>\n",
       "      <td>bonafide\\record-10200010.wav</td>\n",
       "      <td>record-10200010.wav</td>\n",
       "      <td>record</td>\n",
       "      <td>bonafide</td>\n",
       "      <td>5.0</td>\n",
       "    </tr>\n",
       "    <tr>\n",
       "      <th>2</th>\n",
       "      <td>bonafide\\record-10200011.wav</td>\n",
       "      <td>record-10200011.wav</td>\n",
       "      <td>record</td>\n",
       "      <td>bonafide</td>\n",
       "      <td>5.0</td>\n",
       "    </tr>\n",
       "    <tr>\n",
       "      <th>3</th>\n",
       "      <td>bonafide\\record-10200012.wav</td>\n",
       "      <td>record-10200012.wav</td>\n",
       "      <td>record</td>\n",
       "      <td>bonafide</td>\n",
       "      <td>5.0</td>\n",
       "    </tr>\n",
       "    <tr>\n",
       "      <th>4</th>\n",
       "      <td>bonafide\\record-10200013.wav</td>\n",
       "      <td>record-10200013.wav</td>\n",
       "      <td>record</td>\n",
       "      <td>bonafide</td>\n",
       "      <td>5.0</td>\n",
       "    </tr>\n",
       "  </tbody>\n",
       "</table>\n",
       "</div>"
      ],
      "text/plain": [
       "                      File Path            File Name Speaker ID     Label  \\\n",
       "0   bonafide\\record-1020001.wav   record-1020001.wav     record  bonafide   \n",
       "1  bonafide\\record-10200010.wav  record-10200010.wav     record  bonafide   \n",
       "2  bonafide\\record-10200011.wav  record-10200011.wav     record  bonafide   \n",
       "3  bonafide\\record-10200012.wav  record-10200012.wav     record  bonafide   \n",
       "4  bonafide\\record-10200013.wav  record-10200013.wav     record  bonafide   \n",
       "\n",
       "   Duration  \n",
       "0       5.0  \n",
       "1       5.0  \n",
       "2       5.0  \n",
       "3       5.0  \n",
       "4       5.0  "
      ]
     },
     "execution_count": 10,
     "metadata": {},
     "output_type": "execute_result"
    }
   ],
   "source": [
    "processed_df.head()"
   ]
  },
  {
   "cell_type": "code",
   "execution_count": 11,
   "id": "420eead5",
   "metadata": {},
   "outputs": [
    {
     "name": "stdout",
     "output_type": "stream",
     "text": [
      "DONE\n"
     ]
    }
   ],
   "source": [
    "# Save Combined Data with Metadata to CSV\n",
    "combined_data_updated_csv_path = \"metadata.csv\"\n",
    "processed_df.to_csv(combined_data_updated_csv_path, index=False)\n",
    "print(\"DONE\")"
   ]
  },
  {
   "cell_type": "code",
   "execution_count": 12,
   "id": "a767606b",
   "metadata": {},
   "outputs": [],
   "source": [
    "import pandas as pd\n",
    "\n",
    "# Path to your combined data CSV file\n",
    "combined_data_path = \"metadata.csv\"\n",
    "\n",
    "# Read the CSV file\n",
    "combined_df = pd.read_csv(combined_data_path)"
   ]
  },
  {
   "cell_type": "code",
   "execution_count": 13,
   "id": "c03039e2",
   "metadata": {},
   "outputs": [
    {
     "name": "stderr",
     "output_type": "stream",
     "text": [
      "C:\\Users\\PAVAN KUMAR R\\AppData\\Local\\Temp\\ipykernel_13024\\2942106010.py:2: FutureWarning: use_inf_as_na option is deprecated and will be removed in a future version. Convert inf values to NaN before operating instead.\n",
      "  pd.set_option('mode.use_inf_as_na', True)\n"
     ]
    },
    {
     "data": {
      "image/png": "[encoded data removed]",
      "text/plain": [
       "<Figure size 1000x600 with 1 Axes>"
      ]
     },
     "metadata": {},
     "output_type": "display_data"
    }
   ],
   "source": [
    "\n",
    "# Ensure that infinite values are treated as NaN\n",
    "pd.set_option('mode.use_inf_as_na', True)\n",
    "\n",
    "# Check if the 'Duration' column exists in the DataFrame\n",
    "if 'Duration' in combined_df.columns:\n",
    "    plt.figure(figsize=(10, 6))\n",
    "    sns.histplot(combined_df['Duration'].dropna(), bins=30, kde=True, color='blue')\n",
    "    plt.title('Distribution of Audio File Durations')\n",
    "    plt.xlabel('Duration (seconds)')\n",
    "    plt.ylabel('Frequency')\n",
    "    plt.show()\n",
    "else:\n",
    "    print(\"Duration information is not available in the metadata.\")"
   ]
  },
  {
   "cell_type": "code",
   "execution_count": 14,
   "id": "41521af2",
   "metadata": {},
   "outputs": [
    {
     "name": "stdout",
     "output_type": "stream",
     "text": [
      "Not enough numerical features for correlation matrix.\n"
     ]
    }
   ],
   "source": [
    "# Compute and plot the correlation matrix if there are numerical features\n",
    "numerical_features =combined_df.select_dtypes(include=['float64', 'int64']).columns\n",
    "if len(numerical_features) > 1:\n",
    "    correlation_matrix = processed_df[numerical_features].corr()\n",
    "\n",
    "    plt.figure(figsize=(12, 8))\n",
    "    sns.heatmap(correlation_matrix, annot=True, cmap='coolwarm', vmin=-1, vmax=1)\n",
    "    plt.title('Correlation Matrix of Numerical Features')\n",
    "    plt.show()\n",
    "else:\n",
    "    print(\"Not enough numerical features for correlation matrix.\")"
   ]
  },
  {
   "cell_type": "code",
   "execution_count": null,
   "id": "8df8e32f",
   "metadata": {},
   "outputs": [
    {
     "name": "stdout",
     "output_type": "stream",
     "text": [
      "Starting feature extraction...\n"
     ]
    },
    {
     "name": "stderr",
     "output_type": "stream",
     "text": [
      "Processing batch 1/13:   1%|          | 12/1000 [00:00<00:13, 73.98it/s]"
     ]
    }
   ],
   "source": [
    "import librosa\n",
    "import numpy as np\n",
    "import pandas as pd\n",
    "from tqdm import tqdm\n",
    "from joblib import Parallel, delayed\n",
    "import csv\n",
    "import os\n",
    "\n",
    "# Define the folder path and batch size\n",
    "spoof_audio_folder = 'bonafide'\n",
    "\n",
    "# Output CSV file for extracted features\n",
    "output_file = 'bonafide_features.csv'\n",
    "\n",
    "# Function to extract audio features\n",
    "def extract_features(file_path):\n",
    "    try:\n",
    "        y, sr = librosa.load(file_path, sr=None)\n",
    "        \n",
    "        # MFCCs with delta and delta-delta\n",
    "        mfccs = librosa.feature.mfcc(y=y, sr=sr, n_mfcc=13)\n",
    "        delta_mfcc = librosa.feature.delta(mfccs)\n",
    "        delta2_mfcc = librosa.feature.delta(mfccs, order=2)\n",
    "        mfcc_features = np.hstack((\n",
    "            np.mean(mfccs, axis=1),\n",
    "            np.mean(delta_mfcc, axis=1),\n",
    "            np.mean(delta2_mfcc, axis=1)\n",
    "        ))\n",
    "        \n",
    "        # Chromagrams\n",
    "        chroma = librosa.feature.chroma_stft(y=y, sr=sr)\n",
    "        chroma_features = np.mean(chroma, axis=1)\n",
    "        \n",
    "        # Mel-Scaled Spectrograms\n",
    "        mel_spectrogram = librosa.feature.melspectrogram(y=y, sr=sr)\n",
    "        mel_features = np.mean(mel_spectrogram, axis=1)\n",
    "        \n",
    "        # Spectral Contrast\n",
    "        spectral_contrast = librosa.feature.spectral_contrast(y=y, sr=sr)\n",
    "        spectral_contrast_features = np.mean(spectral_contrast, axis=1)\n",
    "        \n",
    "        # Tonnetz\n",
    "        tonnetz = librosa.feature.tonnetz(y=librosa.effects.harmonic(y), sr=sr)\n",
    "        tonnetz_features = np.mean(tonnetz, axis=1)\n",
    "        \n",
    "        # Combine features\n",
    "        features = np.hstack((\n",
    "            mfcc_features, chroma_features, mel_features, spectral_contrast_features, tonnetz_features\n",
    "        ))\n",
    "        return features\n",
    "    except Exception as e:\n",
    "        print(f\"Error processing {file_path}: {e}\")\n",
    "        return np.zeros(193)\n",
    "\n",
    "# Input: List of file paths\n",
    "# Collect all file paths in the bonafide audio folder\n",
    "file_paths = [\n",
    "    os.path.join(spoof_audio_folder, f)\n",
    "    for f in os.listdir(spoof_audio_folder) if f.endswith('.wav')\n",
    "]\n",
    "\n",
    "# Define feature names\n",
    "feature_names = (\n",
    "    [f'MFCC_{i}' for i in range(1, 14)] +\n",
    "    [f'Delta_MFCC_{i}' for i in range(1, 14)] +\n",
    "    [f'Delta2_MFCC_{i}' for i in range(1, 14)] +\n",
    "    [f'Chroma_{i}' for i in range(1, 13)] +\n",
    "    [f'Mel_{i}' for i in range(1, 129)] +\n",
    "    [f'Spectral_Contrast_{i}' for i in range(1, 8)] +\n",
    "    [f'Tonnetz_{i}' for i in range(1, 7)]\n",
    ")\n",
    "\n",
    "\n",
    "\n",
    "# Write header to the CSV file\n",
    "with open(output_file, 'w', newline='') as csvfile:\n",
    "    writer = csv.writer(csvfile)\n",
    "    writer.writerow(feature_names)\n",
    "\n",
    "# Batch processing\n",
    "print(\"Starting feature extraction...\")\n",
    "batch_size = 1000  # Adjust this based on available memory\n",
    "num_batches = len(file_paths) // batch_size + (1 if len(file_paths) % batch_size != 0 else 0)\n",
    "\n",
    "for batch_num in range(num_batches):\n",
    "    start_idx = batch_num * batch_size\n",
    "    end_idx = min((batch_num + 1) * batch_size, len(file_paths))\n",
    "    batch_paths = file_paths[start_idx:end_idx]\n",
    "    \n",
    "    # Process each batch in parallel\n",
    "    batch_features = Parallel(n_jobs=-1)(\n",
    "        delayed(extract_features)(file_path) for file_path in tqdm(batch_paths, desc=f\"Processing batch {batch_num + 1}/{num_batches}\")\n",
    "    )\n",
    "    \n",
    "    # Append batch results to CSV\n",
    "    with open(output_file, 'a', newline='') as csvfile:\n",
    "        writer = csv.writer(csvfile)\n",
    "        writer.writerows(batch_features)\n",
    "\n",
    "print(f\"Feature extraction completed. Features saved to {output_file}.\")\n"
   ]
  },
  {
   "cell_type": "code",
   "execution_count": 2,
   "id": "8378fc4a",
   "metadata": {},
   "outputs": [
    {
     "name": "stdout",
     "output_type": "stream",
     "text": [
      "Starting feature extraction...\n"
     ]
    },
    {
     "name": "stderr",
     "output_type": "stream",
     "text": [
      "Processing batch 1/15: 100%|██████████| 1000/1000 [01:31<00:00, 10.93it/s]\n",
      "Processing batch 2/15: 100%|██████████| 1000/1000 [01:32<00:00, 10.78it/s]\n",
      "Processing batch 3/15: 100%|██████████| 1000/1000 [01:30<00:00, 11.08it/s]\n",
      "Processing batch 4/15: 100%|██████████| 1000/1000 [01:34<00:00, 10.55it/s]\n",
      "Processing batch 5/15: 100%|██████████| 1000/1000 [01:27<00:00, 11.45it/s]\n",
      "Processing batch 6/15: 100%|██████████| 1000/1000 [01:31<00:00, 10.99it/s]\n",
      "Processing batch 7/15: 100%|██████████| 1000/1000 [01:31<00:00, 10.97it/s]\n",
      "Processing batch 8/15: 100%|██████████| 1000/1000 [01:29<00:00, 11.16it/s]\n",
      "Processing batch 9/15: 100%|██████████| 1000/1000 [01:29<00:00, 11.11it/s]\n",
      "Processing batch 10/15: 100%|██████████| 1000/1000 [01:30<00:00, 11.07it/s]\n",
      "Processing batch 11/15: 100%|██████████| 1000/1000 [01:34<00:00, 10.58it/s]\n",
      "Processing batch 12/15: 100%|██████████| 1000/1000 [01:34<00:00, 10.62it/s]\n",
      "Processing batch 13/15: 100%|██████████| 1000/1000 [01:33<00:00, 10.67it/s]\n",
      "Processing batch 14/15: 100%|██████████| 1000/1000 [03:47<00:00,  4.39it/s]\n",
      "Processing batch 15/15: 100%|██████████| 499/499 [00:51<00:00,  9.66it/s]\n"
     ]
    },
    {
     "name": "stdout",
     "output_type": "stream",
     "text": [
      "Feature extraction completed. Features saved to spoof_features.csv.\n"
     ]
    }
   ],
   "source": [
    "import librosa\n",
    "import numpy as np\n",
    "import pandas as pd\n",
    "from tqdm import tqdm\n",
    "from joblib import Parallel, delayed\n",
    "import csv\n",
    "import os\n",
    "\n",
    "# Define the folder path and batch size\n",
    "spoof_audio_folder = 'spoof'\n",
    "\n",
    "# Output CSV file for extracted features\n",
    "output_file = 'spoof_features.csv'\n",
    "\n",
    "# Function to extract audio features\n",
    "def extract_features(file_path):\n",
    "    try:\n",
    "        y, sr = librosa.load(file_path, sr=None)\n",
    "        \n",
    "        # MFCCs with delta and delta-delta\n",
    "        mfccs = librosa.feature.mfcc(y=y, sr=sr, n_mfcc=13)\n",
    "        delta_mfcc = librosa.feature.delta(mfccs)\n",
    "        delta2_mfcc = librosa.feature.delta(mfccs, order=2)\n",
    "        mfcc_features = np.hstack((\n",
    "            np.mean(mfccs, axis=1),\n",
    "            np.mean(delta_mfcc, axis=1),\n",
    "            np.mean(delta2_mfcc, axis=1)\n",
    "        ))\n",
    "        \n",
    "        # Chromagrams\n",
    "        chroma = librosa.feature.chroma_stft(y=y, sr=sr)\n",
    "        chroma_features = np.mean(chroma, axis=1)\n",
    "        \n",
    "        # Mel-Scaled Spectrograms\n",
    "        mel_spectrogram = librosa.feature.melspectrogram(y=y, sr=sr)\n",
    "        mel_features = np.mean(mel_spectrogram, axis=1)\n",
    "        \n",
    "        # Spectral Contrast\n",
    "        spectral_contrast = librosa.feature.spectral_contrast(y=y, sr=sr)\n",
    "        spectral_contrast_features = np.mean(spectral_contrast, axis=1)\n",
    "        \n",
    "        # Tonnetz\n",
    "        tonnetz = librosa.feature.tonnetz(y=librosa.effects.harmonic(y), sr=sr)\n",
    "        tonnetz_features = np.mean(tonnetz, axis=1)\n",
    "        \n",
    "        # Combine features\n",
    "        features = np.hstack((\n",
    "            mfcc_features, chroma_features, mel_features, spectral_contrast_features, tonnetz_features\n",
    "        ))\n",
    "        return features\n",
    "    except Exception as e:\n",
    "        print(f\"Error processing {file_path}: {e}\")\n",
    "        return np.zeros(193)\n",
    "\n",
    "# Input: List of file paths\n",
    "# Collect all file paths in the bonafide audio folder\n",
    "file_paths = [\n",
    "    os.path.join(spoof_audio_folder, f)\n",
    "    for f in os.listdir(spoof_audio_folder) if f.endswith('.wav')\n",
    "]\n",
    "\n",
    "# Define feature names\n",
    "feature_names = (\n",
    "    [f'MFCC_{i}' for i in range(1, 14)] +\n",
    "    [f'Delta_MFCC_{i}' for i in range(1, 14)] +\n",
    "    [f'Delta2_MFCC_{i}' for i in range(1, 14)] +\n",
    "    [f'Chroma_{i}' for i in range(1, 13)] +\n",
    "    [f'Mel_{i}' for i in range(1, 129)] +\n",
    "    [f'Spectral_Contrast_{i}' for i in range(1, 8)] +\n",
    "    [f'Tonnetz_{i}' for i in range(1, 7)]\n",
    ")\n",
    "\n",
    "\n",
    "\n",
    "# Write header to the CSV file\n",
    "with open(output_file, 'w', newline='') as csvfile:\n",
    "    writer = csv.writer(csvfile)\n",
    "    writer.writerow(feature_names)\n",
    "\n",
    "# Batch processing\n",
    "print(\"Starting feature extraction...\")\n",
    "batch_size = 1000  # Adjust this based on available memory\n",
    "num_batches = len(file_paths) // batch_size + (1 if len(file_paths) % batch_size != 0 else 0)\n",
    "\n",
    "for batch_num in range(num_batches):\n",
    "    start_idx = batch_num * batch_size\n",
    "    end_idx = min((batch_num + 1) * batch_size, len(file_paths))\n",
    "    batch_paths = file_paths[start_idx:end_idx]\n",
    "    \n",
    "    # Process each batch in parallel\n",
    "    batch_features = Parallel(n_jobs=-1)(\n",
    "        delayed(extract_features)(file_path) for file_path in tqdm(batch_paths, desc=f\"Processing batch {batch_num + 1}/{num_batches}\")\n",
    "    )\n",
    "    \n",
    "    # Append batch results to CSV\n",
    "    with open(output_file, 'a', newline='') as csvfile:\n",
    "        writer = csv.writer(csvfile)\n",
    "        writer.writerows(batch_features)\n",
    "\n",
    "print(f\"Feature extraction completed. Features saved to {output_file}.\")\n"
   ]
  },
  {
   "cell_type": "code",
   "execution_count": null,
   "id": "5b02b64b",
   "metadata": {},
   "outputs": [],
   "source": []
  }
 ],
 "metadata": {
  "kernelspec": {
   "display_name": "Python 3",
   "language": "python",
   "name": "python3"
  },
  "language_info": {
   "codemirror_mode": {
    "name": "ipython",
    "version": 3
   },
   "file_extension": ".py",
   "mimetype": "text/x-python",
   "name": "python",
   "nbconvert_exporter": "python",
   "pygments_lexer": "ipython3",
   "version": "3.12.4"
  }
 },
 "nbformat": 4,
 "nbformat_minor": 5
}
