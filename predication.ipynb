{
 "cells": [
  {
   "cell_type": "code",
   "execution_count": 4,
   "id": "4bfae4e3",
   "metadata": {},
   "outputs": [],
   "source": [
    "# ====================\n",
    "# Feature Extraction\n",
    "# ====================\n",
    "import numpy as np\n",
    "import librosa\n",
    "import joblib\n",
    "from tensorflow import keras\n",
    "\n",
    "import librosa\n",
    "def extract_features(file_path):\n",
    "    try:\n",
    "        y, sr = librosa.load(file_path, sr=None)\n",
    "        \n",
    "        mfccs = librosa.feature.mfcc(y=y, sr=sr, n_mfcc=13)\n",
    "        delta_mfcc = librosa.feature.delta(mfccs)\n",
    "        delta2_mfcc = librosa.feature.delta(mfccs, order=2)\n",
    "        mfcc_features = np.hstack((\n",
    "            np.mean(mfccs, axis=1),\n",
    "            np.mean(delta_mfcc, axis=1),\n",
    "            np.mean(delta2_mfcc, axis=1)\n",
    "        ))\n",
    "\n",
    "        chroma = librosa.feature.chroma_stft(y=y, sr=sr)\n",
    "        chroma_features = np.mean(chroma, axis=1)\n",
    "\n",
    "        mel = librosa.feature.melspectrogram(y=y, sr=sr)\n",
    "        mel_features = np.mean(mel, axis=1)\n",
    "\n",
    "        spectral_contrast = librosa.feature.spectral_contrast(y=y, sr=sr)\n",
    "        contrast_features = np.mean(spectral_contrast, axis=1)\n",
    "\n",
    "        tonnetz = librosa.feature.tonnetz(y=librosa.effects.harmonic(y), sr=sr)\n",
    "        tonnetz_features = np.mean(tonnetz, axis=1)\n",
    "\n",
    "        combined = np.hstack((\n",
    "            mfcc_features, chroma_features, mel_features, contrast_features, tonnetz_features\n",
    "        ))\n",
    "\n",
    "        return combined\n",
    "    except Exception as e:\n",
    "        print(f\"Feature extraction error: {e}\")\n",
    "        return np.zeros(192)  # fallback feature shape"
   ]
  },
  {
   "cell_type": "code",
   "execution_count": 13,
   "id": "fee3067a",
   "metadata": {},
   "outputs": [],
   "source": [
    "# ====================\n",
    "# Prediction Function\n",
    "# ====================\n",
    "import joblib\n",
    "\n",
    "def predict_audio(file_path):\n",
    "    try:\n",
    "        # Load scaler and label encoder\n",
    "        scaler = joblib.load('scaler.pkl')\n",
    "        label_encoder = joblib.load('label_encoder.pkl')\n",
    "\n",
    "        # Extract and scale features\n",
    "        features = extract_features(file_path).reshape(1, -1)\n",
    "        features_scaled = scaler.transform(features)\n",
    "\n",
    "        # ---------- DNN Prediction ----------\n",
    "        dnn_model = keras.models.load_model('DNN/DNN-Model.keras')\n",
    "        dnn_pred = dnn_model.predict(features_scaled)\n",
    "        dnn_label = label_encoder.inverse_transform([np.argmax(dnn_pred)])[0]\n",
    "\n",
    "        # ---------- CNN Prediction ----------\n",
    "        cnn_input = features_scaled.reshape(1, features_scaled.shape[1], 1, 1)\n",
    "        cnn_model = keras.models.load_model('CNN/cnn-model.keras')\n",
    "        cnn_pred = cnn_model.predict(cnn_input)\n",
    "        cnn_label = label_encoder.inverse_transform([np.argmax(cnn_pred)])[0]\n",
    "\n",
    "        return {\n",
    "            \"DNN Prediction\": dnn_label,\n",
    "            \"CNN Prediction\": cnn_label\n",
    "        }\n",
    "\n",
    "    except Exception as e:\n",
    "        print(f\"Prediction error: {e}\")\n",
    "        return None"
   ]
  },
  {
   "cell_type": "code",
   "execution_count": 12,
   "id": "2954d4f0",
   "metadata": {},
   "outputs": [
    {
     "name": "stderr",
     "output_type": "stream",
     "text": [
      "c:\\Users\\PAVAN KUMAR R\\AppData\\Local\\Programs\\Python\\Python312\\Lib\\site-packages\\sklearn\\utils\\validation.py:2739: UserWarning: X does not have valid feature names, but StandardScaler was fitted with feature names\n",
      "  warnings.warn(\n",
      "c:\\Users\\PAVAN KUMAR R\\AppData\\Local\\Programs\\Python\\Python312\\Lib\\site-packages\\keras\\src\\saving\\saving_lib.py:757: UserWarning: Skipping variable loading for optimizer 'rmsprop', because it has 16 variables whereas the saved optimizer has 30 variables. \n",
      "  saveable.load_own_variables(weights_store.get(inner_path))\n"
     ]
    },
    {
     "name": "stdout",
     "output_type": "stream",
     "text": [
      "\u001b[1m1/1\u001b[0m \u001b[32m━━━━━━━━━━━━━━━━━━━━\u001b[0m\u001b[37m\u001b[0m \u001b[1m0s\u001b[0m 228ms/step\n",
      "\u001b[1m1/1\u001b[0m \u001b[32m━━━━━━━━━━━━━━━━━━━━\u001b[0m\u001b[37m\u001b[0m \u001b[1m0s\u001b[0m 414ms/step\n",
      "DNN Prediction: 0\n",
      "CNN Prediction: 0\n"
     ]
    }
   ],
   "source": [
    "# ====================\n",
    "# Example Prediction\n",
    "# ====================\n",
    "file_path = \"spoof/tts-0162000418.wav\"\n",
    "results = predict_audio(file_path)\n",
    "if results:\n",
    "    print(\"DNN Prediction:\", results[\"DNN Prediction\"])\n",
    "    print(\"CNN Prediction:\", results[\"CNN Prediction\"])\n"
   ]
  }
 ],
 "metadata": {
  "kernelspec": {
   "display_name": "Python 3",
   "language": "python",
   "name": "python3"
  },
  "language_info": {
   "codemirror_mode": {
    "name": "ipython",
    "version": 3
   },
   "file_extension": ".py",
   "mimetype": "text/x-python",
   "name": "python",
   "nbconvert_exporter": "python",
   "pygments_lexer": "ipython3",
   "version": "3.12.4"
  }
 },
 "nbformat": 4,
 "nbformat_minor": 5
}
